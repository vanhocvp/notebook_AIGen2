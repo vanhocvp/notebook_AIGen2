{
 "cells": [
  {
   "cell_type": "markdown",
   "metadata": {},
   "source": [
    "## Unet"
   ]
  },
  {
   "cell_type": "markdown",
   "metadata": {},
   "source": []
  },
  {
   "cell_type": "markdown",
   "metadata": {},
   "source": [
    "## U-Net\n",
    "**U-Net là một Network để giải quyết bài toán Image Segmentation**"
   ]
  },
  {
   "cell_type": "markdown",
   "metadata": {},
   "source": [
    "### Image Segmentation"
   ]
  },
  {
   "attachments": {},
   "cell_type": "markdown",
   "metadata": {},
   "source": [
    "<img src = 'https://miro.medium.com/max/2000/1*cHtBw8yBhprNXj-CBQBx5g.png'>"
   ]
  },
  {
   "attachments": {},
   "cell_type": "markdown",
   "metadata": {},
   "source": [
    "- Object Detection: Sử dụng các hộp để giới hạn object\n",
    "- Semantic Segmentation: <img src = 'https://miro.medium.com/max/1400/1*nXlx7s4wQhVgVId8qkkMMA.png'>\n",
    "Phân loại theo từng pixel, gán label cho từng pixel. Như hình ảnh trên ta phân loại thành 3 class: Person, Bicycle, Background.\n",
    "\n",
    "- instance Segmentation: <img src = 'https://miro.medium.com/max/1276/1*ratkNlE3u5cT6AChInXmXQ.jpeg'>\n",
    "khác với Semantic Segmentation, không chỉ phân loại pixel theo class, mà trong cùng 1 class nó còn phân loại các đối tượng riêng biệt với nhau."
   ]
  },
  {
   "cell_type": "markdown",
   "metadata": {},
   "source": [
    "<img src = 'https://miro.medium.com/max/1400/1*f7YOaE4TWubwaFF7Z1fzNw.png'>"
   ]
  },
  {
   "cell_type": "markdown",
   "metadata": {},
   "source": [
    "Mạng có cấu trúc hình chữ 'U' đối xứng. Phần bên trái là **contracting path**, phần bên phải là **expansive path**\n",
    "\n",
    "**contracting path**\n",
    "\n",
    "Quá trình này giống như các CNN trước đây ta thực hiện.\n",
    "\n",
    "conv_layer1 -> conv_layer2 -> max_pooling -> dropout(optional)\n",
    "<img src = 'https://miro.medium.com/max/212/1*xW5JGavuJAxwMsJRZs_0Rg.png'>\n",
    "\n",
    "Mỗi quá trình gồm 2 conv layers. Qua conv đầu tiên sẽ tăng depth của ảnh. Ta thấy qua 2 conv thì size của bức ảnh giảm đi vì conv sử dụng padding = 'same' và stride = 2\n",
    "\n",
    "Mũi tên màu đỏ là maxpooling, có tác dụng downsampling\n",
    "\n",
    "- Lặp lại quá trình đó 3 lần và thu được ảnh ở quá trình này là 28x28x1024\n",
    "\n",
    "**Expansive Path**\n",
    "\n",
    "Quá trình này ảnh sẽ dần tăng size và trở lại kích thước như ban đầu.\n",
    "\n",
    "conv_2d_transpose(up-conv 2x2) -> concatenate -> conv_layer1 -> conv_layer2\n",
    "\n",
    "<img src = 'https://miro.medium.com/max/1140/1*-2FyAsc71aCXiEHTkVnI7Q.png'>\n",
    "\n",
    "Nếu như chúng ta sử dụng một conv network và pooling như thông thường chúng ta sẽ có được thông tin về object trong ảnh là gì nhưng đánh đổi là mất đi lượng thông tin về vị trí của chúng. Trong bài toán image segmentation chúng ta đang giải quyết, đầu ra cần là 1 bức ảnh với độ phân giải cao và phân biệt được các object với nhau. Vì vậy chúng ta cần đến kĩ thuật upsampling để chuyển 1 bức ảnh có độ phân giải thấp thành phân giải cao và khôi phục lại thông tin về vị trí của các object. Có nhiều kĩ thuật thực hiện được upsampling nhưng **conv transpose** là tốt nhất.\n",
    "\n",
    "**Conv-transposed**\n",
    "\n",
    "<img src = 'https://miro.medium.com/max/588/1*BMngs93_rm2_BpJFH2mS0Q.gif'>\n",
    "\n",
    "<img src = 'https://adamdking.com/blog/gaugan/images/convolution.gif'>\n",
    "\n",
    "U-Net sử dụng conv-trans 2x2. sau cov-trans 2x2 ảnh sẽ tăng size gấp đôi và giảm depth đi 1 nửa. (28x28x1024 → 56x56x512)\n",
    "\n",
    "sau khi upsampling, ảnh sẽ được **concatenated** với ảnh tương ứng ở **contracting path** và tạo thành ảnh mới(56x56x1024) và sau đó ảnh mới được đi qua tiếp 2 conv.\n",
    "\n",
    "- Lặp lại quá trình đó 3 lần nữa ta sẽ thu được ảnh có kích thước như ban ddauaf:\n",
    "<img src = 'https://miro.medium.com/max/1224/1*yNbPtz4rIGgI6iE-1OPOdg.png'>\n",
    "\n",
    "Ở layer cuói cùng sử dụgn conv 1x1 để  ánh xạ mỗi feature vector về số lớp class mong muốn.\n",
    "\n",
    "\n",
    "\n",
    "\n",
    "\n",
    "\n",
    "\n"
   ]
  },
  {
   "cell_type": "markdown",
   "metadata": {},
   "source": []
  }
 ],
 "metadata": {
  "kernelspec": {
   "display_name": "Python 3",
   "language": "python",
   "name": "python3"
  },
  "language_info": {
   "codemirror_mode": {
    "name": "ipython",
    "version": 3
   },
   "file_extension": ".py",
   "mimetype": "text/x-python",
   "name": "python",
   "nbconvert_exporter": "python",
   "pygments_lexer": "ipython3",
   "version": "3.7.3"
  }
 },
 "nbformat": 4,
 "nbformat_minor": 2
}
